{
  "nbformat": 4,
  "nbformat_minor": 2,
  "metadata": {
    "colab": {
      "name": "mirum-data-engineer-df.ipynb",
      "provenance": [],
      "collapsed_sections": [],
      "toc_visible": true
    },
    "kernelspec": {
      "name": "python3",
      "display_name": "Python 3"
    },
    "language_info": {
      "name": "python"
    }
  },
  "cells": [
    {
      "cell_type": "markdown",
      "source": [
        "**Autor**: Gabriel Przytocki <br>\r\n",
        "**Data**: 18/07/2021"
      ],
      "metadata": {}
    },
    {
      "cell_type": "markdown",
      "source": [
        "# Challenge 1: Data Engineer Jr"
      ],
      "metadata": {
        "id": "qJcf7sQ77Z4u"
      }
    },
    {
      "cell_type": "code",
      "execution_count": 1,
      "source": [
        "from google.colab import drive\r\n",
        "\r\n",
        "# Coletando os dados salvos no Drive\r\n",
        "drive.mount('/content/drive')"
      ],
      "outputs": [
        {
          "output_type": "stream",
          "name": "stdout",
          "text": [
            "Drive already mounted at /content/drive; to attempt to forcibly remount, call drive.mount(\"/content/drive\", force_remount=True).\n"
          ]
        }
      ],
      "metadata": {
        "colab": {
          "base_uri": "https://localhost:8080/"
        },
        "id": "t6Aanpwh1Kma",
        "outputId": "e9b59912-e5df-4a30-b8e3-c64706a971d7"
      }
    },
    {
      "cell_type": "code",
      "execution_count": 2,
      "source": [
        "# Manipulação de matrizes\r\n",
        "import numpy as np"
      ],
      "outputs": [],
      "metadata": {
        "id": "Kv6YJHXfqG6Y"
      }
    },
    {
      "cell_type": "markdown",
      "source": [
        "# Load Data"
      ],
      "metadata": {
        "id": "yTvmiYUu7mB1"
      }
    },
    {
      "cell_type": "code",
      "execution_count": 3,
      "source": [
        "import pandas as pd\r\n",
        "\r\n",
        "authors = 'drive/MyDrive/datasets/mirum-data-engineer-challenge/authors.csv'       #authors.csv\r\n",
        "categor = 'drive/MyDrive/datasets/mirum-data-engineer-challenge/categories.csv'    #categories.csv\r\n",
        "dataset = 'drive/MyDrive/datasets/mirum-data-engineer-challenge/dataset.csv'       #dataset.csv\r\n",
        "formats = 'drive/MyDrive/datasets/mirum-data-engineer-challenge/formats.csv'       #formats.csv\r\n",
        "\r\n",
        "aut = pd.read_csv(authors) #authors.csv\r\n",
        "cat = pd.read_csv(categor) #categories.csv\r\n",
        "dat = pd.read_csv(dataset) #dataset.csv\r\n",
        "fom = pd.read_csv(formats) #formats.csv"
      ],
      "outputs": [],
      "metadata": {
        "id": "bCeDRGaQ0iBy"
      }
    },
    {
      "cell_type": "code",
      "execution_count": 4,
      "source": [
        "# Informações do DataFrame \"dataset\"\r\n",
        "dat.info()"
      ],
      "outputs": [
        {
          "output_type": "stream",
          "name": "stdout",
          "text": [
            "<class 'pandas.core.frame.DataFrame'>\n",
            "RangeIndex: 20216 entries, 0 to 20215\n",
            "Data columns (total 28 columns):\n",
            " #   Column              Non-Null Count  Dtype  \n",
            "---  ------              --------------  -----  \n",
            " 0   authors             20216 non-null  object \n",
            " 1   bestsellers-rank    9227 non-null   float64\n",
            " 2   categories          20216 non-null  object \n",
            " 3   description         17804 non-null  object \n",
            " 4   dimension-x         18937 non-null  float64\n",
            " 5   dimension-y         18071 non-null  float64\n",
            " 6   dimension-z         18937 non-null  float64\n",
            " 7   edition             2157 non-null   object \n",
            " 8   edition-statement   5156 non-null   object \n",
            " 9   for-ages            201 non-null    object \n",
            " 10  format              20023 non-null  float64\n",
            " 11  id                  20216 non-null  int64  \n",
            " 12  illustrations-note  6567 non-null   object \n",
            " 13  image-checksum      20216 non-null  object \n",
            " 14  image-path          20216 non-null  object \n",
            " 15  image-url           20216 non-null  object \n",
            " 16  imprint             4111 non-null   object \n",
            " 17  index-date          0 non-null      float64\n",
            " 18  isbn10              20216 non-null  object \n",
            " 19  isbn13              20216 non-null  int64  \n",
            " 20  lang                18845 non-null  object \n",
            " 21  publication-date    20191 non-null  object \n",
            " 22  publication-place   0 non-null      float64\n",
            " 23  rating-avg          10361 non-null  float64\n",
            " 24  rating-count        10361 non-null  float64\n",
            " 25  title               20216 non-null  object \n",
            " 26  url                 20216 non-null  object \n",
            " 27  weight              18333 non-null  float64\n",
            "dtypes: float64(10), int64(2), object(16)\n",
            "memory usage: 4.3+ MB\n"
          ]
        }
      ],
      "metadata": {
        "colab": {
          "base_uri": "https://localhost:8080/"
        },
        "id": "5aDlPvhKcqD_",
        "outputId": "fa729131-4c02-4f20-e6be-5e51eb1c1d66"
      }
    },
    {
      "cell_type": "markdown",
      "source": [
        "# Visualizing data"
      ],
      "metadata": {
        "id": "OkxEo9R219QJ"
      }
    },
    {
      "cell_type": "markdown",
      "source": [
        "## `authors.csv`"
      ],
      "metadata": {
        "id": "oMggYLNp7xxn"
      }
    },
    {
      "cell_type": "code",
      "execution_count": 5,
      "source": [
        "#authors.csv\r\n",
        "aut.head(5)"
      ],
      "outputs": [
        {
          "output_type": "execute_result",
          "data": {
            "text/html": [
              "<div>\n",
              "<style scoped>\n",
              "    .dataframe tbody tr th:only-of-type {\n",
              "        vertical-align: middle;\n",
              "    }\n",
              "\n",
              "    .dataframe tbody tr th {\n",
              "        vertical-align: top;\n",
              "    }\n",
              "\n",
              "    .dataframe thead th {\n",
              "        text-align: right;\n",
              "    }\n",
              "</style>\n",
              "<table border=\"1\" class=\"dataframe\">\n",
              "  <thead>\n",
              "    <tr style=\"text-align: right;\">\n",
              "      <th></th>\n",
              "      <th>author_id</th>\n",
              "      <th>author_name</th>\n",
              "    </tr>\n",
              "  </thead>\n",
              "  <tbody>\n",
              "    <tr>\n",
              "      <th>0</th>\n",
              "      <td>3481</td>\n",
              "      <td>NaN</td>\n",
              "    </tr>\n",
              "    <tr>\n",
              "      <th>1</th>\n",
              "      <td>181</td>\n",
              "      <td>- Mimamour</td>\n",
              "    </tr>\n",
              "    <tr>\n",
              "      <th>2</th>\n",
              "      <td>11255</td>\n",
              "      <td>- Samoral Helgueras</td>\n",
              "    </tr>\n",
              "    <tr>\n",
              "      <th>3</th>\n",
              "      <td>3734</td>\n",
              "      <td>. Macnoughton</td>\n",
              "    </tr>\n",
              "    <tr>\n",
              "      <th>4</th>\n",
              "      <td>8644</td>\n",
              "      <td>16.95n</td>\n",
              "    </tr>\n",
              "  </tbody>\n",
              "</table>\n",
              "</div>"
            ],
            "text/plain": [
              "   author_id          author_name\n",
              "0       3481                  NaN\n",
              "1        181           - Mimamour\n",
              "2      11255  - Samoral Helgueras\n",
              "3       3734        . Macnoughton\n",
              "4       8644               16.95n"
            ]
          },
          "metadata": {
            "tags": []
          },
          "execution_count": 5
        }
      ],
      "metadata": {
        "colab": {
          "base_uri": "https://localhost:8080/",
          "height": 204
        },
        "id": "7H22XEh31Ss6",
        "outputId": "91fdbdb4-85ea-490c-9175-f56b0986fb01"
      }
    },
    {
      "cell_type": "markdown",
      "source": [
        "## `categories.csv`"
      ],
      "metadata": {
        "id": "usF02-re71s1"
      }
    },
    {
      "cell_type": "code",
      "execution_count": 6,
      "source": [
        "#categories.csv\r\n",
        "cat.head(5)"
      ],
      "outputs": [
        {
          "output_type": "execute_result",
          "data": {
            "text/html": [
              "<div>\n",
              "<style scoped>\n",
              "    .dataframe tbody tr th:only-of-type {\n",
              "        vertical-align: middle;\n",
              "    }\n",
              "\n",
              "    .dataframe tbody tr th {\n",
              "        vertical-align: top;\n",
              "    }\n",
              "\n",
              "    .dataframe thead th {\n",
              "        text-align: right;\n",
              "    }\n",
              "</style>\n",
              "<table border=\"1\" class=\"dataframe\">\n",
              "  <thead>\n",
              "    <tr style=\"text-align: right;\">\n",
              "      <th></th>\n",
              "      <th>category_id</th>\n",
              "      <th>category_name</th>\n",
              "    </tr>\n",
              "  </thead>\n",
              "  <tbody>\n",
              "    <tr>\n",
              "      <th>0</th>\n",
              "      <td>176</td>\n",
              "      <td>20th Century &amp; Contemporary Classical Music</td>\n",
              "    </tr>\n",
              "    <tr>\n",
              "      <th>1</th>\n",
              "      <td>3291</td>\n",
              "      <td>20th Century &amp; Contemporary Classical Music</td>\n",
              "    </tr>\n",
              "    <tr>\n",
              "      <th>2</th>\n",
              "      <td>2659</td>\n",
              "      <td>20th Century History: C 1900  To C 2000</td>\n",
              "    </tr>\n",
              "    <tr>\n",
              "      <th>3</th>\n",
              "      <td>2661</td>\n",
              "      <td>21st Century History: From C 2000 -</td>\n",
              "    </tr>\n",
              "    <tr>\n",
              "      <th>4</th>\n",
              "      <td>2472</td>\n",
              "      <td>ABC</td>\n",
              "    </tr>\n",
              "  </tbody>\n",
              "</table>\n",
              "</div>"
            ],
            "text/plain": [
              "   category_id                                category_name\n",
              "0          176  20th Century & Contemporary Classical Music\n",
              "1         3291  20th Century & Contemporary Classical Music\n",
              "2         2659      20th Century History: C 1900  To C 2000\n",
              "3         2661          21st Century History: From C 2000 -\n",
              "4         2472                                          ABC"
            ]
          },
          "metadata": {
            "tags": []
          },
          "execution_count": 6
        }
      ],
      "metadata": {
        "colab": {
          "base_uri": "https://localhost:8080/",
          "height": 204
        },
        "id": "m8J93-qP1UE4",
        "outputId": "811542d1-978d-4cf8-b876-4f429b1a62e6"
      }
    },
    {
      "cell_type": "markdown",
      "source": [
        "## `formats.csv`"
      ],
      "metadata": {
        "id": "tXF66aLd77D2"
      }
    },
    {
      "cell_type": "code",
      "execution_count": 7,
      "source": [
        "#formats.csv\r\n",
        "fom.head(5)"
      ],
      "outputs": [
        {
          "output_type": "execute_result",
          "data": {
            "text/html": [
              "<div>\n",
              "<style scoped>\n",
              "    .dataframe tbody tr th:only-of-type {\n",
              "        vertical-align: middle;\n",
              "    }\n",
              "\n",
              "    .dataframe tbody tr th {\n",
              "        vertical-align: top;\n",
              "    }\n",
              "\n",
              "    .dataframe thead th {\n",
              "        text-align: right;\n",
              "    }\n",
              "</style>\n",
              "<table border=\"1\" class=\"dataframe\">\n",
              "  <thead>\n",
              "    <tr style=\"text-align: right;\">\n",
              "      <th></th>\n",
              "      <th>format_id</th>\n",
              "      <th>format_name</th>\n",
              "    </tr>\n",
              "  </thead>\n",
              "  <tbody>\n",
              "    <tr>\n",
              "      <th>0</th>\n",
              "      <td>15</td>\n",
              "      <td>Audio</td>\n",
              "    </tr>\n",
              "    <tr>\n",
              "      <th>1</th>\n",
              "      <td>18</td>\n",
              "      <td>Board</td>\n",
              "    </tr>\n",
              "    <tr>\n",
              "      <th>2</th>\n",
              "      <td>9</td>\n",
              "      <td>Book</td>\n",
              "    </tr>\n",
              "    <tr>\n",
              "      <th>3</th>\n",
              "      <td>4</td>\n",
              "      <td>CD</td>\n",
              "    </tr>\n",
              "    <tr>\n",
              "      <th>4</th>\n",
              "      <td>2</td>\n",
              "      <td>Calendar</td>\n",
              "    </tr>\n",
              "  </tbody>\n",
              "</table>\n",
              "</div>"
            ],
            "text/plain": [
              "   format_id format_name\n",
              "0         15       Audio\n",
              "1         18       Board\n",
              "2          9        Book\n",
              "3          4          CD\n",
              "4          2    Calendar"
            ]
          },
          "metadata": {
            "tags": []
          },
          "execution_count": 7
        }
      ],
      "metadata": {
        "colab": {
          "base_uri": "https://localhost:8080/",
          "height": 204
        },
        "id": "qcNtNte01XCy",
        "outputId": "7cd41d3d-e970-411d-933d-fa32cdc5d063"
      }
    },
    {
      "cell_type": "markdown",
      "source": [
        "## `dataset.csv`"
      ],
      "metadata": {
        "id": "vU8W5uVV746G"
      }
    },
    {
      "cell_type": "code",
      "execution_count": 8,
      "source": [
        "#dataset.csv\r\n",
        "dat.head()"
      ],
      "outputs": [
        {
          "output_type": "execute_result",
          "data": {
            "text/html": [
              "<div>\n",
              "<style scoped>\n",
              "    .dataframe tbody tr th:only-of-type {\n",
              "        vertical-align: middle;\n",
              "    }\n",
              "\n",
              "    .dataframe tbody tr th {\n",
              "        vertical-align: top;\n",
              "    }\n",
              "\n",
              "    .dataframe thead th {\n",
              "        text-align: right;\n",
              "    }\n",
              "</style>\n",
              "<table border=\"1\" class=\"dataframe\">\n",
              "  <thead>\n",
              "    <tr style=\"text-align: right;\">\n",
              "      <th></th>\n",
              "      <th>authors</th>\n",
              "      <th>bestsellers-rank</th>\n",
              "      <th>categories</th>\n",
              "      <th>description</th>\n",
              "      <th>dimension-x</th>\n",
              "      <th>dimension-y</th>\n",
              "      <th>dimension-z</th>\n",
              "      <th>edition</th>\n",
              "      <th>edition-statement</th>\n",
              "      <th>for-ages</th>\n",
              "      <th>format</th>\n",
              "      <th>id</th>\n",
              "      <th>illustrations-note</th>\n",
              "      <th>image-checksum</th>\n",
              "      <th>image-path</th>\n",
              "      <th>image-url</th>\n",
              "      <th>imprint</th>\n",
              "      <th>index-date</th>\n",
              "      <th>isbn10</th>\n",
              "      <th>isbn13</th>\n",
              "      <th>lang</th>\n",
              "      <th>publication-date</th>\n",
              "      <th>publication-place</th>\n",
              "      <th>rating-avg</th>\n",
              "      <th>rating-count</th>\n",
              "      <th>title</th>\n",
              "      <th>url</th>\n",
              "      <th>weight</th>\n",
              "    </tr>\n",
              "  </thead>\n",
              "  <tbody>\n",
              "    <tr>\n",
              "      <th>0</th>\n",
              "      <td>[1, 2]</td>\n",
              "      <td>2038.0</td>\n",
              "      <td>[334, 335, 352, 2626]</td>\n",
              "      <td>A seminal work of dystopian fiction that fores...</td>\n",
              "      <td>134.0</td>\n",
              "      <td>196.0</td>\n",
              "      <td>11.00</td>\n",
              "      <td>NaN</td>\n",
              "      <td>Revised ed.</td>\n",
              "      <td>NaN</td>\n",
              "      <td>1.0</td>\n",
              "      <td>9780140185850</td>\n",
              "      <td>NaN</td>\n",
              "      <td>1313c5d22d95cce5e94a49750e15e43f</td>\n",
              "      <td>full/5/7/3/5734a259853e631e8011cef8dba816df475...</td>\n",
              "      <td>https://d1w7fb2mkkr3kw.cloudfront.net/assets/i...</td>\n",
              "      <td>PENGUIN CLASSICS</td>\n",
              "      <td>NaN</td>\n",
              "      <td>140185852</td>\n",
              "      <td>9780140185850</td>\n",
              "      <td>en</td>\n",
              "      <td>1993-11-25 00:00:00</td>\n",
              "      <td>NaN</td>\n",
              "      <td>3.91</td>\n",
              "      <td>70619.0</td>\n",
              "      <td>We</td>\n",
              "      <td>/We-Yevgeny-Zamyatin/9780140185850</td>\n",
              "      <td>182.00</td>\n",
              "    </tr>\n",
              "    <tr>\n",
              "      <th>1</th>\n",
              "      <td>[3]</td>\n",
              "      <td>136603.0</td>\n",
              "      <td>[2653, 667, 2819, 2849]</td>\n",
              "      <td>Since earliest times, human beings have ponder...</td>\n",
              "      <td>106.0</td>\n",
              "      <td>171.0</td>\n",
              "      <td>34.04</td>\n",
              "      <td>NaN</td>\n",
              "      <td>Reprint</td>\n",
              "      <td>NaN</td>\n",
              "      <td>1.0</td>\n",
              "      <td>9780061379208</td>\n",
              "      <td>NaN</td>\n",
              "      <td>8f0e7f8b0954a796b217ad99b039f9c9</td>\n",
              "      <td>full/0/7/4/0743d08e9de0351c7d0f8385b6b0eeb235a...</td>\n",
              "      <td>https://d1w7fb2mkkr3kw.cloudfront.net/assets/i...</td>\n",
              "      <td>HarperCollins</td>\n",
              "      <td>NaN</td>\n",
              "      <td>61379204</td>\n",
              "      <td>9780061379208</td>\n",
              "      <td>en</td>\n",
              "      <td>2011-08-26 00:00:00</td>\n",
              "      <td>NaN</td>\n",
              "      <td>4.00</td>\n",
              "      <td>1185.0</td>\n",
              "      <td>Stairway to Heaven</td>\n",
              "      <td>/Stairway-Heaven-Z-Sitchin/9780061379208</td>\n",
              "      <td>208.65</td>\n",
              "    </tr>\n",
              "    <tr>\n",
              "      <th>2</th>\n",
              "      <td>[4]</td>\n",
              "      <td>66791.0</td>\n",
              "      <td>[2785, 2819, 2820, 2830, 2842, 2845, 2846, 284...</td>\n",
              "      <td>Offering both comfort to the fearful and confi...</td>\n",
              "      <td>138.0</td>\n",
              "      <td>215.0</td>\n",
              "      <td>15.00</td>\n",
              "      <td>NaN</td>\n",
              "      <td>NaN</td>\n",
              "      <td>NaN</td>\n",
              "      <td>1.0</td>\n",
              "      <td>9780717136223</td>\n",
              "      <td>NaN</td>\n",
              "      <td>0d251d3af1fd4ed5990d87b1a5d0f41b</td>\n",
              "      <td>full/f/7/5/f752804bfcba1bf3e8b5a290e8e8f136289...</td>\n",
              "      <td>https://d1w7fb2mkkr3kw.cloudfront.net/assets/i...</td>\n",
              "      <td>Gill Books</td>\n",
              "      <td>NaN</td>\n",
              "      <td>717136221</td>\n",
              "      <td>9780717136223</td>\n",
              "      <td>en</td>\n",
              "      <td>2003-06-05 00:00:00</td>\n",
              "      <td>NaN</td>\n",
              "      <td>4.44</td>\n",
              "      <td>930.0</td>\n",
              "      <td>Between Death and Life : Conversations with a ...</td>\n",
              "      <td>/Between-Death-Life-Dolores-Cannon/9780717136223</td>\n",
              "      <td>361.00</td>\n",
              "    </tr>\n",
              "    <tr>\n",
              "      <th>3</th>\n",
              "      <td>[5]</td>\n",
              "      <td>90273.0</td>\n",
              "      <td>[142, 3257, 635, 669, 2848]</td>\n",
              "      <td>A look into the paranormal legends, lore, myth...</td>\n",
              "      <td>140.0</td>\n",
              "      <td>210.0</td>\n",
              "      <td>20.57</td>\n",
              "      <td>NaN</td>\n",
              "      <td>NaN</td>\n",
              "      <td>NaN</td>\n",
              "      <td>1.0</td>\n",
              "      <td>9780425241370</td>\n",
              "      <td>NaN</td>\n",
              "      <td>7501c4a3abe00ce3c9d086f5c8cc5cb1</td>\n",
              "      <td>full/0/9/f/09f6e1367fe806b013df75071b2ab7f8684...</td>\n",
              "      <td>https://d1w7fb2mkkr3kw.cloudfront.net/assets/i...</td>\n",
              "      <td>Berkley Publishing Corporation,U.S.</td>\n",
              "      <td>NaN</td>\n",
              "      <td>425241378</td>\n",
              "      <td>9780425241370</td>\n",
              "      <td>en</td>\n",
              "      <td>2011-09-22 00:00:00</td>\n",
              "      <td>NaN</td>\n",
              "      <td>4.24</td>\n",
              "      <td>848.0</td>\n",
              "      <td>The Mythology Of Supernatural : The Signs and ...</td>\n",
              "      <td>/Mythology-Supernatural-Nathan-Robert-Brown/97...</td>\n",
              "      <td>244.00</td>\n",
              "    </tr>\n",
              "    <tr>\n",
              "      <th>4</th>\n",
              "      <td>[6]</td>\n",
              "      <td>110103.0</td>\n",
              "      <td>[215, 3240, 2819, 2848, 2863]</td>\n",
              "      <td>'A fascinating spiritual adventure. Rosemary A...</td>\n",
              "      <td>126.0</td>\n",
              "      <td>198.0</td>\n",
              "      <td>19.00</td>\n",
              "      <td>NaN</td>\n",
              "      <td>NaN</td>\n",
              "      <td>NaN</td>\n",
              "      <td>1.0</td>\n",
              "      <td>9780712611039</td>\n",
              "      <td>NaN</td>\n",
              "      <td>a194593b9213f94791e3afcfcb3f4fba</td>\n",
              "      <td>full/b/f/f/bff0b35d39efcd0fc16cd345f748bbf44f4...</td>\n",
              "      <td>https://d1w7fb2mkkr3kw.cloudfront.net/assets/i...</td>\n",
              "      <td>Rider &amp; Co</td>\n",
              "      <td>NaN</td>\n",
              "      <td>712611037</td>\n",
              "      <td>9780712611039</td>\n",
              "      <td>en</td>\n",
              "      <td>2001-08-02 00:00:00</td>\n",
              "      <td>NaN</td>\n",
              "      <td>4.07</td>\n",
              "      <td>1435.0</td>\n",
              "      <td>The Eagle And The Rose</td>\n",
              "      <td>/Eagle-Rose-Rosemary-Altea/9780712611039</td>\n",
              "      <td>208.00</td>\n",
              "    </tr>\n",
              "  </tbody>\n",
              "</table>\n",
              "</div>"
            ],
            "text/plain": [
              "  authors  ...  weight\n",
              "0  [1, 2]  ...  182.00\n",
              "1     [3]  ...  208.65\n",
              "2     [4]  ...  361.00\n",
              "3     [5]  ...  244.00\n",
              "4     [6]  ...  208.00\n",
              "\n",
              "[5 rows x 28 columns]"
            ]
          },
          "metadata": {
            "tags": []
          },
          "execution_count": 8
        }
      ],
      "metadata": {
        "colab": {
          "base_uri": "https://localhost:8080/",
          "height": 564
        },
        "id": "RHtoJ4SK1Vll",
        "outputId": "7829d284-86a2-4890-e83f-a574a49aade3"
      }
    },
    {
      "cell_type": "markdown",
      "source": [
        "# Preparando os dados"
      ],
      "metadata": {
        "id": "uxglV4dy3i_3"
      }
    },
    {
      "cell_type": "code",
      "execution_count": 9,
      "source": [
        "def parse_str_to_list(str_list: str,\r\n",
        "                      df_index: str):\r\n",
        "    \r\n",
        "        \"\"\"\r\n",
        "        Função responsável por transformar uma coluna específica de um DataFrame,\r\n",
        "        esta que possui a froma de uma lista, mas é do tipo str (e.g. \"[1, 2]\"), em\r\n",
        "        uma lista real, em que seus itens internos são números inteiros.\r\n",
        "\r\n",
        "        Exemplo:\r\n",
        "            input: \"[1, 2]\"\r\n",
        "            output: [1, 2]\r\n",
        "\r\n",
        "        Params:\r\n",
        "            str_list: lista no formato str a ser transformada.\r\n",
        "\r\n",
        "            df_index: Nome da coluna no \"dataset.csv\" para ser consultada no df.\r\n",
        "\r\n",
        "        Returns:\r\n",
        "            Retorna uma lista real com seus itens no tipo inteiro dentro.\r\n",
        "        \"\"\"\r\n",
        "\r\n",
        "        # Inicializando a variável final com a lista str transformada em list\r\n",
        "        elements = []\r\n",
        "\r\n",
        "        # Iterando sobre os elementos da coluna alvo do \"dataset\"\r\n",
        "        for i in str_list[df_index]:\r\n",
        "\r\n",
        "            # Inicializando a variável acerca do novo elemento\r\n",
        "            element = []\r\n",
        "            content = i[1:-1] # Excluindo \"[\" e \"]\"\r\n",
        "            content = content.split(\", \") # Separando os itens da lista  por \",\"\r\n",
        "\r\n",
        "            # Excluindo os elementos nulos e inadequados\r\n",
        "            for e in content:\r\n",
        "                if e != \"\" and e != \" \" and e != None:\r\n",
        "                    element.append(int(e)) # Adicionando o elemento como inteiro\r\n",
        "\r\n",
        "            elements.append(element) # Adicionando a nova lista à lista final\r\n",
        "\r\n",
        "        return elements\r\n",
        "\r\n",
        "\r\n",
        "def parse_index_to_label(\r\n",
        "    id_label: str, \r\n",
        "    name_label: str, \r\n",
        "    df_index: str, \r\n",
        "    df: pd.DataFrame, \r\n",
        "    df_legend: pd.DataFrame) -> list:\r\n",
        "\r\n",
        "    \"\"\"\r\n",
        "    Função reponsável por transformar a lista de códigos do \"dataset.csv\" em uma\r\n",
        "    lista com as labels reais correspondentes ao código.\r\n",
        "\r\n",
        "    Exemplo:\r\n",
        "        input: \"[1, 2]\": str\r\n",
        "        output: [\"Autor A\", \"Autor B\"]: list\r\n",
        "\r\n",
        "    Params:\r\n",
        "        id_label: nome da coluna correspondente ao id de um item do \"dataset.csv\"\r\n",
        "                  Contém o mesmo id presente no dataset mencionado.\r\n",
        "\r\n",
        "        name_label: nome da coluna correspondente ao \"name\" de um item do \r\n",
        "                    \"dataset.csv\". Contém o mesmo \"name\" presente no dataset\r\n",
        "                    mencionado. \r\n",
        "\r\n",
        "        df_index: Nome da coluna no \"dataset.csv\" para ser consultada no df.\r\n",
        "\r\n",
        "        df: DataFrame final a ser consultado para se extrair os códigos, de\r\n",
        "            maneira a construir uma nova lista com os \"names\" em questão.\r\n",
        "\r\n",
        "        df_legend: DataFrame com os names dos ids a serem consultados.\r\n",
        "\r\n",
        "    Returns:\r\n",
        "        Retorna uma lista com várias listas dento, cada lista contendo um ou mais\r\n",
        "        nomes das labels alvo de um determinado livro (e.g. nomes de autores).\r\n",
        "    \"\"\"\r\n",
        "    \r\n",
        "    # Utilizando a função 'parse_str_to_list' para obter a lista no formato list\r\n",
        "    # Inicializando a variável final com os elementos substituídos.\r\n",
        "    elements = parse_str_to_list(df,\r\n",
        "                                 df_index)\r\n",
        "\r\n",
        "    # Contador macro\r\n",
        "    major_counter = 0\r\n",
        "    # Iterando sobre cada lista dentro da lista transformada\r\n",
        "\r\n",
        "    for i in elements:\r\n",
        "        # Contador micro\r\n",
        "        minor_counter = 0\r\n",
        "\r\n",
        "        # Iterando sobre os elementos de cada lista\r\n",
        "        for k in i:\r\n",
        "            # Novo elemento da lista, do qual consulta no df com os names e realiza\r\n",
        "            # a substituição\r\n",
        "            k = df_legend[df_legend[id_label] == k][name_label].values[0]\r\n",
        "\r\n",
        "            # Inclui o novo elemento na variável final\r\n",
        "            # Utiliza os contadores para acessar a posição específica\r\n",
        "            elements[major_counter][minor_counter] = k\r\n",
        "\r\n",
        "            minor_counter += 1 # Incremento de contador\r\n",
        "        major_counter += 1 # Incremento de contador\r\n",
        "\r\n",
        "    return elements"
      ],
      "outputs": [],
      "metadata": {
        "id": "zHx3Xz1FjsYR"
      }
    },
    {
      "cell_type": "markdown",
      "source": [
        "## `authors.csv` + `dataset.csv`: Substituindo index por label"
      ],
      "metadata": {
        "id": "t43gRaPb1X1y"
      }
    },
    {
      "cell_type": "code",
      "execution_count": 10,
      "source": [
        "# Lista com os nomes de autores, dos quais subtituem os código de autores\r\n",
        "# da coluna \"authors\" do \"dataset\"\r\n",
        "authors_parsed = parse_index_to_label(\"author_id\",\r\n",
        "                                      \"author_name\",\r\n",
        "                                      \"authors\",\r\n",
        "                                      dat,\r\n",
        "                                      aut)"
      ],
      "outputs": [],
      "metadata": {
        "id": "4lJYj7f_mq1K"
      }
    },
    {
      "cell_type": "code",
      "execution_count": 11,
      "source": [
        "# Criando uma nova coluna no \"dataset\", na qual corresponde à coluna \"authors\", porém\r\n",
        "# substituindo os códigos por suas respectivas labels, disponíveis em \"authors.csv\"\r\n",
        "dat[\"authors-parsed\"] = authors_parsed"
      ],
      "outputs": [],
      "metadata": {
        "id": "ekKLtoSWiyaW"
      }
    },
    {
      "cell_type": "markdown",
      "source": [
        "## `categories.csv` + `dataset.csv`: Substituindo index por label"
      ],
      "metadata": {
        "id": "R_v2-yjH1tb1"
      }
    },
    {
      "cell_type": "code",
      "execution_count": 12,
      "source": [
        "# Lista com os nomes de categorias, dos quais subtituem os código de categorias\r\n",
        "# da coluna \"categories\" do \"dataset\"\r\n",
        "categories_parsed = parse_index_to_label(\"category_id\", \r\n",
        "                                         \"category_name\", \r\n",
        "                                         \"categories\", \r\n",
        "                                         dat, \r\n",
        "                                         cat)"
      ],
      "outputs": [],
      "metadata": {
        "id": "_OA3onCHkMzf"
      }
    },
    {
      "cell_type": "code",
      "execution_count": 13,
      "source": [
        "# Criando uma nova coluna no \"dataset\", na qual corresponde à coluna \"categorie\", porém\r\n",
        "# substituindo os códigos por suas respectivas labels, disponíveis em \"categories.csv\"\r\n",
        "dat[\"categories-parsed\"] = categories_parsed"
      ],
      "outputs": [],
      "metadata": {
        "id": "qUbI1AVcm7y6"
      }
    },
    {
      "cell_type": "markdown",
      "source": [
        "## `formats.csv` + `dataset.csv`: Substituindo index por label"
      ],
      "metadata": {
        "id": "H9E56v-P1vzQ"
      }
    },
    {
      "cell_type": "code",
      "execution_count": 14,
      "source": [
        "# Mesma funcionalidade da função 'parse_index_to_label', porém adaptada\r\n",
        "# para a coluna \"format\" do \"dataset\", da qual possui uma estrutura diferente.\r\n",
        "\r\n",
        "# Inicializando a variável final com os itens substituídos\r\n",
        "elements = []\r\n",
        "\r\n",
        "# Iterando sobrea  coluna \"format\"\r\n",
        "for i in dat[\"format\"]:\r\n",
        "    try:\r\n",
        "        # Se conseguir converter o elemento para int, coleta e armazena o \"name\"\r\n",
        "        k = fom[fom[\"format_id\"] == int(i)][\"format_name\"].values[0]\r\n",
        "    except:\r\n",
        "        # Caso dê exceção, adiciona np.nan e pula para a próxima iteração\r\n",
        "        elements.append(np.nan)\r\n",
        "        continue\r\n",
        "\r\n",
        "    # Adicona o elemento k, com o \"name\"\r\n",
        "    elements.append(k)\r\n",
        "\r\n",
        "# Lista com elementos substituídos\r\n",
        "formats_parsed = elements"
      ],
      "outputs": [],
      "metadata": {
        "id": "wS5fXAPinIfJ"
      }
    },
    {
      "cell_type": "code",
      "execution_count": 15,
      "source": [
        "# Criando uma nova coluna no \"dataset\", na qual corresponde à coluna \"format\", porém\r\n",
        "# substituindo os códigos por suas respectivas labels, disponíveis em \"formats.csv\"\r\n",
        "dat[\"formats-parsed\"] = formats_parsed"
      ],
      "outputs": [],
      "metadata": {
        "id": "gx72xeHDqY0I"
      }
    },
    {
      "cell_type": "markdown",
      "source": [
        "## Visualizando o DataFrame unificado: `dataset.csv`"
      ],
      "metadata": {
        "id": "Zq2Ik_Mo16eW"
      }
    },
    {
      "cell_type": "code",
      "execution_count": 16,
      "source": [
        "# \"dataset\" após criação de novas colunas com mesclagem de dados\r\n",
        "# Primeiras 5 linhas\r\n",
        "dat.head()"
      ],
      "outputs": [
        {
          "output_type": "execute_result",
          "data": {
            "text/html": [
              "<div>\n",
              "<style scoped>\n",
              "    .dataframe tbody tr th:only-of-type {\n",
              "        vertical-align: middle;\n",
              "    }\n",
              "\n",
              "    .dataframe tbody tr th {\n",
              "        vertical-align: top;\n",
              "    }\n",
              "\n",
              "    .dataframe thead th {\n",
              "        text-align: right;\n",
              "    }\n",
              "</style>\n",
              "<table border=\"1\" class=\"dataframe\">\n",
              "  <thead>\n",
              "    <tr style=\"text-align: right;\">\n",
              "      <th></th>\n",
              "      <th>authors</th>\n",
              "      <th>bestsellers-rank</th>\n",
              "      <th>categories</th>\n",
              "      <th>description</th>\n",
              "      <th>dimension-x</th>\n",
              "      <th>dimension-y</th>\n",
              "      <th>dimension-z</th>\n",
              "      <th>edition</th>\n",
              "      <th>edition-statement</th>\n",
              "      <th>for-ages</th>\n",
              "      <th>format</th>\n",
              "      <th>id</th>\n",
              "      <th>illustrations-note</th>\n",
              "      <th>image-checksum</th>\n",
              "      <th>image-path</th>\n",
              "      <th>image-url</th>\n",
              "      <th>imprint</th>\n",
              "      <th>index-date</th>\n",
              "      <th>isbn10</th>\n",
              "      <th>isbn13</th>\n",
              "      <th>lang</th>\n",
              "      <th>publication-date</th>\n",
              "      <th>publication-place</th>\n",
              "      <th>rating-avg</th>\n",
              "      <th>rating-count</th>\n",
              "      <th>title</th>\n",
              "      <th>url</th>\n",
              "      <th>weight</th>\n",
              "      <th>authors-parsed</th>\n",
              "      <th>categories-parsed</th>\n",
              "      <th>formats-parsed</th>\n",
              "    </tr>\n",
              "  </thead>\n",
              "  <tbody>\n",
              "    <tr>\n",
              "      <th>0</th>\n",
              "      <td>[1, 2]</td>\n",
              "      <td>2038.0</td>\n",
              "      <td>[334, 335, 352, 2626]</td>\n",
              "      <td>A seminal work of dystopian fiction that fores...</td>\n",
              "      <td>134.0</td>\n",
              "      <td>196.0</td>\n",
              "      <td>11.00</td>\n",
              "      <td>NaN</td>\n",
              "      <td>Revised ed.</td>\n",
              "      <td>NaN</td>\n",
              "      <td>1.0</td>\n",
              "      <td>9780140185850</td>\n",
              "      <td>NaN</td>\n",
              "      <td>1313c5d22d95cce5e94a49750e15e43f</td>\n",
              "      <td>full/5/7/3/5734a259853e631e8011cef8dba816df475...</td>\n",
              "      <td>https://d1w7fb2mkkr3kw.cloudfront.net/assets/i...</td>\n",
              "      <td>PENGUIN CLASSICS</td>\n",
              "      <td>NaN</td>\n",
              "      <td>140185852</td>\n",
              "      <td>9780140185850</td>\n",
              "      <td>en</td>\n",
              "      <td>1993-11-25 00:00:00</td>\n",
              "      <td>NaN</td>\n",
              "      <td>3.91</td>\n",
              "      <td>70619.0</td>\n",
              "      <td>We</td>\n",
              "      <td>/We-Yevgeny-Zamyatin/9780140185850</td>\n",
              "      <td>182.00</td>\n",
              "      <td>[Yevgeny Zamyatin, Clarence Brown]</td>\n",
              "      <td>[Contemporary Fiction, Classic Books &amp; Novels,...</td>\n",
              "      <td>Paperback</td>\n",
              "    </tr>\n",
              "    <tr>\n",
              "      <th>1</th>\n",
              "      <td>[3]</td>\n",
              "      <td>136603.0</td>\n",
              "      <td>[2653, 667, 2819, 2849]</td>\n",
              "      <td>Since earliest times, human beings have ponder...</td>\n",
              "      <td>106.0</td>\n",
              "      <td>171.0</td>\n",
              "      <td>34.04</td>\n",
              "      <td>NaN</td>\n",
              "      <td>Reprint</td>\n",
              "      <td>NaN</td>\n",
              "      <td>1.0</td>\n",
              "      <td>9780061379208</td>\n",
              "      <td>NaN</td>\n",
              "      <td>8f0e7f8b0954a796b217ad99b039f9c9</td>\n",
              "      <td>full/0/7/4/0743d08e9de0351c7d0f8385b6b0eeb235a...</td>\n",
              "      <td>https://d1w7fb2mkkr3kw.cloudfront.net/assets/i...</td>\n",
              "      <td>HarperCollins</td>\n",
              "      <td>NaN</td>\n",
              "      <td>61379204</td>\n",
              "      <td>9780061379208</td>\n",
              "      <td>en</td>\n",
              "      <td>2011-08-26 00:00:00</td>\n",
              "      <td>NaN</td>\n",
              "      <td>4.00</td>\n",
              "      <td>1185.0</td>\n",
              "      <td>Stairway to Heaven</td>\n",
              "      <td>/Stairway-Heaven-Z-Sitchin/9780061379208</td>\n",
              "      <td>208.65</td>\n",
              "      <td>[Z Sitchin]</td>\n",
              "      <td>[Ancient History: To C 500 CE, Popular Beliefs...</td>\n",
              "      <td>Paperback</td>\n",
              "    </tr>\n",
              "    <tr>\n",
              "      <th>2</th>\n",
              "      <td>[4]</td>\n",
              "      <td>66791.0</td>\n",
              "      <td>[2785, 2819, 2820, 2830, 2842, 2845, 2846, 284...</td>\n",
              "      <td>Offering both comfort to the fearful and confi...</td>\n",
              "      <td>138.0</td>\n",
              "      <td>215.0</td>\n",
              "      <td>15.00</td>\n",
              "      <td>NaN</td>\n",
              "      <td>NaN</td>\n",
              "      <td>NaN</td>\n",
              "      <td>1.0</td>\n",
              "      <td>9780717136223</td>\n",
              "      <td>NaN</td>\n",
              "      <td>0d251d3af1fd4ed5990d87b1a5d0f41b</td>\n",
              "      <td>full/f/7/5/f752804bfcba1bf3e8b5a290e8e8f136289...</td>\n",
              "      <td>https://d1w7fb2mkkr3kw.cloudfront.net/assets/i...</td>\n",
              "      <td>Gill Books</td>\n",
              "      <td>NaN</td>\n",
              "      <td>717136221</td>\n",
              "      <td>9780717136223</td>\n",
              "      <td>en</td>\n",
              "      <td>2003-06-05 00:00:00</td>\n",
              "      <td>NaN</td>\n",
              "      <td>4.44</td>\n",
              "      <td>930.0</td>\n",
              "      <td>Between Death and Life : Conversations with a ...</td>\n",
              "      <td>/Between-Death-Life-Dolores-Cannon/9780717136223</td>\n",
              "      <td>361.00</td>\n",
              "      <td>[Dolores Cannon]</td>\n",
              "      <td>[Coping With Death &amp; Bereavement, Mind, Body &amp;...</td>\n",
              "      <td>Paperback</td>\n",
              "    </tr>\n",
              "    <tr>\n",
              "      <th>3</th>\n",
              "      <td>[5]</td>\n",
              "      <td>90273.0</td>\n",
              "      <td>[142, 3257, 635, 669, 2848]</td>\n",
              "      <td>A look into the paranormal legends, lore, myth...</td>\n",
              "      <td>140.0</td>\n",
              "      <td>210.0</td>\n",
              "      <td>20.57</td>\n",
              "      <td>NaN</td>\n",
              "      <td>NaN</td>\n",
              "      <td>NaN</td>\n",
              "      <td>1.0</td>\n",
              "      <td>9780425241370</td>\n",
              "      <td>NaN</td>\n",
              "      <td>7501c4a3abe00ce3c9d086f5c8cc5cb1</td>\n",
              "      <td>full/0/9/f/09f6e1367fe806b013df75071b2ab7f8684...</td>\n",
              "      <td>https://d1w7fb2mkkr3kw.cloudfront.net/assets/i...</td>\n",
              "      <td>Berkley Publishing Corporation,U.S.</td>\n",
              "      <td>NaN</td>\n",
              "      <td>425241378</td>\n",
              "      <td>9780425241370</td>\n",
              "      <td>en</td>\n",
              "      <td>2011-09-22 00:00:00</td>\n",
              "      <td>NaN</td>\n",
              "      <td>4.24</td>\n",
              "      <td>848.0</td>\n",
              "      <td>The Mythology Of Supernatural : The Signs and ...</td>\n",
              "      <td>/Mythology-Supernatural-Nathan-Robert-Brown/97...</td>\n",
              "      <td>244.00</td>\n",
              "      <td>[Nathan Robert Brown]</td>\n",
              "      <td>[Television, Television, Popular Culture, Folk...</td>\n",
              "      <td>Paperback</td>\n",
              "    </tr>\n",
              "    <tr>\n",
              "      <th>4</th>\n",
              "      <td>[6]</td>\n",
              "      <td>110103.0</td>\n",
              "      <td>[215, 3240, 2819, 2848, 2863]</td>\n",
              "      <td>'A fascinating spiritual adventure. Rosemary A...</td>\n",
              "      <td>126.0</td>\n",
              "      <td>198.0</td>\n",
              "      <td>19.00</td>\n",
              "      <td>NaN</td>\n",
              "      <td>NaN</td>\n",
              "      <td>NaN</td>\n",
              "      <td>1.0</td>\n",
              "      <td>9780712611039</td>\n",
              "      <td>NaN</td>\n",
              "      <td>a194593b9213f94791e3afcfcb3f4fba</td>\n",
              "      <td>full/b/f/f/bff0b35d39efcd0fc16cd345f748bbf44f4...</td>\n",
              "      <td>https://d1w7fb2mkkr3kw.cloudfront.net/assets/i...</td>\n",
              "      <td>Rider &amp; Co</td>\n",
              "      <td>NaN</td>\n",
              "      <td>712611037</td>\n",
              "      <td>9780712611039</td>\n",
              "      <td>en</td>\n",
              "      <td>2001-08-02 00:00:00</td>\n",
              "      <td>NaN</td>\n",
              "      <td>4.07</td>\n",
              "      <td>1435.0</td>\n",
              "      <td>The Eagle And The Rose</td>\n",
              "      <td>/Eagle-Rose-Rosemary-Altea/9780712611039</td>\n",
              "      <td>208.00</td>\n",
              "      <td>[Rosemary Altea]</td>\n",
              "      <td>[Autobiography: General, Spiritualism, Mind, B...</td>\n",
              "      <td>Paperback</td>\n",
              "    </tr>\n",
              "  </tbody>\n",
              "</table>\n",
              "</div>"
            ],
            "text/plain": [
              "  authors  ...  formats-parsed\n",
              "0  [1, 2]  ...       Paperback\n",
              "1     [3]  ...       Paperback\n",
              "2     [4]  ...       Paperback\n",
              "3     [5]  ...       Paperback\n",
              "4     [6]  ...       Paperback\n",
              "\n",
              "[5 rows x 31 columns]"
            ]
          },
          "metadata": {
            "tags": []
          },
          "execution_count": 16
        }
      ],
      "metadata": {
        "colab": {
          "base_uri": "https://localhost:8080/",
          "height": 581
        },
        "id": "y_ZMBeZkjarI",
        "outputId": "d8832e62-fb92-4a6d-8aa3-2f484750ced1"
      }
    },
    {
      "cell_type": "markdown",
      "source": [
        "#Perguntas"
      ],
      "metadata": {
        "id": "xsHY5Hxc6TKj"
      }
    },
    {
      "cell_type": "markdown",
      "source": [
        "## Qual a quantidade total de livros da base?"
      ],
      "metadata": {
        "id": "Mn9QDcVl6P-z"
      }
    },
    {
      "cell_type": "code",
      "execution_count": 17,
      "source": [
        "#Contando as ocorrências dos ids de livros da base dataset\r\n",
        "dat.id.count()"
      ],
      "outputs": [
        {
          "output_type": "execute_result",
          "data": {
            "text/plain": [
              "20216"
            ]
          },
          "metadata": {
            "tags": []
          },
          "execution_count": 17
        }
      ],
      "metadata": {
        "colab": {
          "base_uri": "https://localhost:8080/"
        },
        "id": "3pzRoe_J5vco",
        "outputId": "d72b4b4b-b8fd-432f-a669-21b9d3ca6cd5"
      }
    },
    {
      "cell_type": "markdown",
      "source": [
        "**Answer**: There are 20,216 books on the dataset."
      ],
      "metadata": {
        "id": "pkJjadYeY8QA"
      }
    },
    {
      "cell_type": "markdown",
      "source": [
        "##Qual a quantidade de livros que possui apenas 1 autor?\n"
      ],
      "metadata": {
        "id": "tg1Jn5t86xBC"
      }
    },
    {
      "cell_type": "code",
      "execution_count": 18,
      "source": [
        "# Quantidade de ids dos livros no \"dataset\", excuíndo livros \r\n",
        "# com mais de um autor e vazios\r\n",
        "len([i for i in dat.authors if \",\" not in i and i != \"[]\"])"
      ],
      "outputs": [
        {
          "output_type": "execute_result",
          "data": {
            "text/plain": [
              "14753"
            ]
          },
          "metadata": {
            "tags": []
          },
          "execution_count": 18
        }
      ],
      "metadata": {
        "colab": {
          "base_uri": "https://localhost:8080/"
        },
        "id": "2D4NEY6Mc8YZ",
        "outputId": "370f08c5-44c6-43b5-aa6c-0b7f003dddb1"
      }
    },
    {
      "cell_type": "markdown",
      "source": [
        "**Answer**: There are 14,753 books with one author."
      ],
      "metadata": {
        "id": "YtyG8R6wY07I"
      }
    },
    {
      "cell_type": "markdown",
      "source": [
        "##Quais os 5 autores com a maior quantidade de livros?\n"
      ],
      "metadata": {
        "id": "1Xqu_Tms60ak"
      }
    },
    {
      "cell_type": "code",
      "execution_count": 19,
      "source": [
        "# Inicializando dicionário que conta a ocorrência de cada elemento\r\n",
        "authors_counter = {}\r\n",
        "\r\n",
        "for i in dat[\"authors-parsed\"]:\r\n",
        "    for k in i:\r\n",
        "        authors_counter[k] = 0\r\n",
        "\r\n",
        "# Incrementando o contador\r\n",
        "for i in dat[\"authors-parsed\"]:\r\n",
        "    for k in i:\r\n",
        "        authors_counter[k] += 1"
      ],
      "outputs": [],
      "metadata": {
        "id": "KI2S3c4YrRs4"
      }
    },
    {
      "cell_type": "code",
      "execution_count": 20,
      "source": [
        "# Ordenando o contador\r\n",
        "sorted_authors_counter = {k: v for k, v in sorted(authors_counter.items(), \r\n",
        "                                                  key=lambda item: item[1])}"
      ],
      "outputs": [],
      "metadata": {
        "id": "eQXGZtzNwrN4"
      }
    },
    {
      "cell_type": "code",
      "execution_count": 21,
      "source": [
        "# Criando um DataFrame com o contador\r\n",
        "df_books_per_authors = pd.DataFrame(sorted_authors_counter, \r\n",
        "                                    index=[0])"
      ],
      "outputs": [],
      "metadata": {
        "id": "Zu-liXLHsoLR"
      }
    },
    {
      "cell_type": "code",
      "execution_count": 22,
      "source": [
        "# Criando uma matriz transposta para fácil exibição e coletando os últimos\r\n",
        "# 5 registros\r\n",
        "np.transpose(df_books_per_authors).tail()"
      ],
      "outputs": [
        {
          "output_type": "execute_result",
          "data": {
            "text/html": [
              "<div>\n",
              "<style scoped>\n",
              "    .dataframe tbody tr th:only-of-type {\n",
              "        vertical-align: middle;\n",
              "    }\n",
              "\n",
              "    .dataframe tbody tr th {\n",
              "        vertical-align: top;\n",
              "    }\n",
              "\n",
              "    .dataframe thead th {\n",
              "        text-align: right;\n",
              "    }\n",
              "</style>\n",
              "<table border=\"1\" class=\"dataframe\">\n",
              "  <thead>\n",
              "    <tr style=\"text-align: right;\">\n",
              "      <th></th>\n",
              "      <th>0</th>\n",
              "    </tr>\n",
              "  </thead>\n",
              "  <tbody>\n",
              "    <tr>\n",
              "      <th>Kevin Lee</th>\n",
              "      <td>83</td>\n",
              "    </tr>\n",
              "    <tr>\n",
              "      <th>Matthew Preston</th>\n",
              "      <td>83</td>\n",
              "    </tr>\n",
              "    <tr>\n",
              "      <th>William Shakespeare</th>\n",
              "      <td>117</td>\n",
              "    </tr>\n",
              "    <tr>\n",
              "      <th>Rand McNally</th>\n",
              "      <td>212</td>\n",
              "    </tr>\n",
              "    <tr>\n",
              "      <th>Weezag</th>\n",
              "      <td>258</td>\n",
              "    </tr>\n",
              "  </tbody>\n",
              "</table>\n",
              "</div>"
            ],
            "text/plain": [
              "                       0\n",
              "Kevin Lee             83\n",
              "Matthew Preston       83\n",
              "William Shakespeare  117\n",
              "Rand McNally         212\n",
              "Weezag               258"
            ]
          },
          "metadata": {
            "tags": []
          },
          "execution_count": 22
        }
      ],
      "metadata": {
        "colab": {
          "base_uri": "https://localhost:8080/",
          "height": 204
        },
        "id": "ARTJrcu5tcjI",
        "outputId": "003a2578-fdfb-4571-aae7-522782d4939e"
      }
    },
    {
      "cell_type": "markdown",
      "source": [
        "##Qual a quantidade de livros por categoria?\n"
      ],
      "metadata": {
        "id": "w8VPM5uG623r"
      }
    },
    {
      "cell_type": "code",
      "execution_count": 23,
      "source": [
        "# Inicializando dicionário que conta a ocorrência de cada elemento\r\n",
        "categories_counter = {}\r\n",
        "\r\n",
        "for i in dat[\"categories-parsed\"]:\r\n",
        "    for k in i:\r\n",
        "        categories_counter[k] = 0\r\n",
        "\r\n",
        "# Incrementando o contador\r\n",
        "for i in dat[\"categories-parsed\"]:\r\n",
        "    for k in i:\r\n",
        "        categories_counter[k] += 1"
      ],
      "outputs": [],
      "metadata": {
        "id": "cqfZtMsRyeHG"
      }
    },
    {
      "cell_type": "code",
      "execution_count": 24,
      "source": [
        "# Ordenando o contador\r\n",
        "sorted_categories_counter = {k: v for k, v in sorted(categories_counter.items(), \r\n",
        "                                                     key=lambda item: item[1])}"
      ],
      "outputs": [],
      "metadata": {
        "id": "MXkffEg4yeHP"
      }
    },
    {
      "cell_type": "code",
      "execution_count": 25,
      "source": [
        "# Criando um DataFrame com o contador\n",
        "df_books_per_categories = pd.DataFrame(sorted_categories_counter, \n",
        "                                    index=[0])"
      ],
      "outputs": [],
      "metadata": {
        "id": "hwWo7javyeHP"
      }
    },
    {
      "cell_type": "code",
      "execution_count": 26,
      "source": [
        "# Criando uma matriz transposta para fácil exibição\n",
        "np.transpose(df_books_per_categories)"
      ],
      "outputs": [
        {
          "output_type": "execute_result",
          "data": {
            "text/html": [
              "<div>\n",
              "<style scoped>\n",
              "    .dataframe tbody tr th:only-of-type {\n",
              "        vertical-align: middle;\n",
              "    }\n",
              "\n",
              "    .dataframe tbody tr th {\n",
              "        vertical-align: top;\n",
              "    }\n",
              "\n",
              "    .dataframe thead th {\n",
              "        text-align: right;\n",
              "    }\n",
              "</style>\n",
              "<table border=\"1\" class=\"dataframe\">\n",
              "  <thead>\n",
              "    <tr style=\"text-align: right;\">\n",
              "      <th></th>\n",
              "      <th>0</th>\n",
              "    </tr>\n",
              "  </thead>\n",
              "  <tbody>\n",
              "    <tr>\n",
              "      <th>Zoos &amp; Wildlife Parks</th>\n",
              "      <td>1</td>\n",
              "    </tr>\n",
              "    <tr>\n",
              "      <th>Shipbuilding Technology, Engineering &amp; Trades</th>\n",
              "      <td>1</td>\n",
              "    </tr>\n",
              "    <tr>\n",
              "      <th>Buses, Trams &amp; Commercial</th>\n",
              "      <td>1</td>\n",
              "    </tr>\n",
              "    <tr>\n",
              "      <th>Organic Farming</th>\n",
              "      <td>1</td>\n",
              "    </tr>\n",
              "    <tr>\n",
              "      <th>Engineering Skills &amp; Trades</th>\n",
              "      <td>1</td>\n",
              "    </tr>\n",
              "    <tr>\n",
              "      <th>...</th>\n",
              "      <td>...</td>\n",
              "    </tr>\n",
              "    <tr>\n",
              "      <th>Theatre Studies</th>\n",
              "      <td>1854</td>\n",
              "    </tr>\n",
              "    <tr>\n",
              "      <th>Usage &amp; Grammar Guides</th>\n",
              "      <td>1862</td>\n",
              "    </tr>\n",
              "    <tr>\n",
              "      <th>World Atlases / World Maps</th>\n",
              "      <td>3792</td>\n",
              "    </tr>\n",
              "    <tr>\n",
              "      <th>Teaching Skills &amp; Techniques</th>\n",
              "      <td>4122</td>\n",
              "    </tr>\n",
              "    <tr>\n",
              "      <th>Television</th>\n",
              "      <td>4450</td>\n",
              "    </tr>\n",
              "  </tbody>\n",
              "</table>\n",
              "<p>1731 rows × 1 columns</p>\n",
              "</div>"
            ],
            "text/plain": [
              "                                                  0\n",
              "Zoos & Wildlife Parks                             1\n",
              "Shipbuilding Technology, Engineering & Trades     1\n",
              "Buses, Trams & Commercial                         1\n",
              "Organic Farming                                   1\n",
              "Engineering Skills & Trades                       1\n",
              "...                                             ...\n",
              "Theatre Studies                                1854\n",
              "Usage & Grammar Guides                         1862\n",
              "World Atlases / World Maps                     3792\n",
              "Teaching Skills & Techniques                   4122\n",
              "Television                                     4450\n",
              "\n",
              "[1731 rows x 1 columns]"
            ]
          },
          "metadata": {
            "tags": []
          },
          "execution_count": 26
        }
      ],
      "metadata": {
        "colab": {
          "base_uri": "https://localhost:8080/",
          "height": 419
        },
        "id": "LWX4bl5hyeHQ",
        "outputId": "a3997aed-1bc0-4f9f-df03-3080d90633f8"
      }
    },
    {
      "cell_type": "markdown",
      "source": [
        "##Quais as 5 categorias com a maior quantidade de livros?\n"
      ],
      "metadata": {
        "id": "f8RgwqbS6406"
      }
    },
    {
      "cell_type": "code",
      "execution_count": 27,
      "source": [
        "# Criando uma matriz transposta para fácil exibição e coletando os últimos\n",
        "# 5 registros\n",
        "np.transpose(df_books_per_categories).tail()"
      ],
      "outputs": [
        {
          "output_type": "execute_result",
          "data": {
            "text/html": [
              "<div>\n",
              "<style scoped>\n",
              "    .dataframe tbody tr th:only-of-type {\n",
              "        vertical-align: middle;\n",
              "    }\n",
              "\n",
              "    .dataframe tbody tr th {\n",
              "        vertical-align: top;\n",
              "    }\n",
              "\n",
              "    .dataframe thead th {\n",
              "        text-align: right;\n",
              "    }\n",
              "</style>\n",
              "<table border=\"1\" class=\"dataframe\">\n",
              "  <thead>\n",
              "    <tr style=\"text-align: right;\">\n",
              "      <th></th>\n",
              "      <th>0</th>\n",
              "    </tr>\n",
              "  </thead>\n",
              "  <tbody>\n",
              "    <tr>\n",
              "      <th>Theatre Studies</th>\n",
              "      <td>1854</td>\n",
              "    </tr>\n",
              "    <tr>\n",
              "      <th>Usage &amp; Grammar Guides</th>\n",
              "      <td>1862</td>\n",
              "    </tr>\n",
              "    <tr>\n",
              "      <th>World Atlases / World Maps</th>\n",
              "      <td>3792</td>\n",
              "    </tr>\n",
              "    <tr>\n",
              "      <th>Teaching Skills &amp; Techniques</th>\n",
              "      <td>4122</td>\n",
              "    </tr>\n",
              "    <tr>\n",
              "      <th>Television</th>\n",
              "      <td>4450</td>\n",
              "    </tr>\n",
              "  </tbody>\n",
              "</table>\n",
              "</div>"
            ],
            "text/plain": [
              "                                 0\n",
              "Theatre Studies               1854\n",
              "Usage & Grammar Guides        1862\n",
              "World Atlases / World Maps    3792\n",
              "Teaching Skills & Techniques  4122\n",
              "Television                    4450"
            ]
          },
          "metadata": {
            "tags": []
          },
          "execution_count": 27
        }
      ],
      "metadata": {
        "colab": {
          "base_uri": "https://localhost:8080/",
          "height": 204
        },
        "id": "IdOxAeI8ytnJ",
        "outputId": "e40d95d4-97dc-4d4f-cd9f-d0db5a8ac6bc"
      }
    },
    {
      "cell_type": "markdown",
      "source": [
        "##Qual o formato com a maior quantidade de livros?\n"
      ],
      "metadata": {
        "id": "AjU8xOUV66uW"
      }
    },
    {
      "cell_type": "code",
      "execution_count": 28,
      "source": [
        "# Inicializando dicionário que conta a ocorrência de cada elemento\n",
        "formats_counter = {}\n",
        "\n",
        "for i in dat[\"formats-parsed\"]:\n",
        "    formats_counter[i] = 0\n",
        "\n",
        "# Incrementando o contador\n",
        "for i in dat[\"formats-parsed\"]:\n",
        "    formats_counter[i] += 1"
      ],
      "outputs": [],
      "metadata": {
        "id": "JkznVrKKzEO1"
      }
    },
    {
      "cell_type": "code",
      "execution_count": 29,
      "source": [
        "# Ordenando o contador\n",
        "sorted_formats_counter = {k: v for k, v in sorted(formats_counter.items(), \n",
        "                                                  key=lambda item: item[1])}"
      ],
      "outputs": [],
      "metadata": {
        "id": "eabfUnzt0hdr"
      }
    },
    {
      "cell_type": "code",
      "execution_count": 30,
      "source": [
        "# Criando um DataFrame com o contador\n",
        "df_books_per_formats = pd.DataFrame(sorted_formats_counter, \n",
        "                                    index=[0])"
      ],
      "outputs": [],
      "metadata": {
        "id": "BWxEuiIx0tUk"
      }
    },
    {
      "cell_type": "code",
      "execution_count": 31,
      "source": [
        "# Criando uma matriz transposta para fácil exibição e coletando o último\n",
        "# registro\n",
        "np.transpose(df_books_per_formats).tail(1)"
      ],
      "outputs": [
        {
          "output_type": "execute_result",
          "data": {
            "text/html": [
              "<div>\n",
              "<style scoped>\n",
              "    .dataframe tbody tr th:only-of-type {\n",
              "        vertical-align: middle;\n",
              "    }\n",
              "\n",
              "    .dataframe tbody tr th {\n",
              "        vertical-align: top;\n",
              "    }\n",
              "\n",
              "    .dataframe thead th {\n",
              "        text-align: right;\n",
              "    }\n",
              "</style>\n",
              "<table border=\"1\" class=\"dataframe\">\n",
              "  <thead>\n",
              "    <tr style=\"text-align: right;\">\n",
              "      <th></th>\n",
              "      <th>0</th>\n",
              "    </tr>\n",
              "  </thead>\n",
              "  <tbody>\n",
              "    <tr>\n",
              "      <th>Paperback</th>\n",
              "      <td>13497</td>\n",
              "    </tr>\n",
              "  </tbody>\n",
              "</table>\n",
              "</div>"
            ],
            "text/plain": [
              "               0\n",
              "Paperback  13497"
            ]
          },
          "metadata": {
            "tags": []
          },
          "execution_count": 31
        }
      ],
      "metadata": {
        "colab": {
          "base_uri": "https://localhost:8080/",
          "height": 80
        },
        "id": "bzTNqZr10tUm",
        "outputId": "3f7afbae-6581-4bf3-db88-f01404b6354a"
      }
    },
    {
      "cell_type": "markdown",
      "source": [
        "**Answer**: The format with the greatest number of books is \"Paperblack\"."
      ],
      "metadata": {
        "id": "drTxOQzC0-Io"
      }
    },
    {
      "cell_type": "markdown",
      "source": [
        "##Considerando a coluna `bestsellers-rank`, quais os 10 livros mais bem posicionados?\n"
      ],
      "metadata": {
        "id": "jzNrFHzp68zS"
      }
    },
    {
      "cell_type": "code",
      "execution_count": 32,
      "source": [
        "acc = 1 # Contador\n",
        "\n",
        "# Iterando sobre \"bestsellers-rank\", ordenando e coletando os 10 livros mais bem \n",
        "# posicionados\n",
        "for i in dat[\"bestsellers-rank\"].sort_values(ascending=False).index[:10]:\n",
        "    print(f\"{acc}. id: {dat.iloc[i].id} \\t {dat.iloc[i].title}\\n\")\n",
        "    \n",
        "    acc += 1 # Incrementando"
      ],
      "outputs": [
        {
          "output_type": "stream",
          "name": "stdout",
          "text": [
            "1. id: 9789089645227 \t After the Break : Television Theory Today\n",
            "\n",
            "2. id: 9789053568439 \t On Latin Adverbs\n",
            "\n",
            "3. id: 9789622096318 \t Feeling Asian Modernities - Transnational Consumption of Japanese TV Dramas\n",
            "\n",
            "4. id: 9789042034709 \t Lexikon der alteren germanischen Lehnwoerter in den ostseefinnischen Sprachen, Band III : P-AE\n",
            "\n",
            "5. id: 9789774249839 \t The Real (Arab) World: v. 2\n",
            "\n",
            "6. id: 9789004194526 \t Multi-verb Constructions : A View from the Americas\n",
            "\n",
            "7. id: 9789004177222 \t The Noun Phrase in Ancient Greek : A Functional Analysis of the Order and Articulation of NP Constituents in Herodotus\n",
            "\n",
            "8. id: 9788865273135 \t Ghost Journal\n",
            "\n",
            "9. id: 9789400738225 \t Handbook of Generative Approaches to Language Acquisition\n",
            "\n",
            "10. id: 9789768200150 \t Ghost Stories of Arizona and New Mexico\n",
            "\n"
          ]
        }
      ],
      "metadata": {
        "colab": {
          "base_uri": "https://localhost:8080/"
        },
        "id": "vqqYZj9MTL1I",
        "outputId": "479a1e79-cccf-40d5-aa66-f7a16b51660c"
      }
    },
    {
      "cell_type": "markdown",
      "source": [
        "##Considerando a coluna `rating-avg`, quais os 10 livros mais bem posicionados?\n"
      ],
      "metadata": {
        "id": "0XzFBjZX6-mw"
      }
    },
    {
      "cell_type": "code",
      "execution_count": 33,
      "source": [
        "acc = 1 # Contador\n",
        "\n",
        "# Iterando sobre \"rating-avg\", ordenando e coletando os 10 livros mais bem\n",
        "# posicionados\n",
        "for i in dat[\"rating-avg\"].sort_values(ascending=False).index[:10]:\n",
        "    print(f\"{acc}. id: {dat.iloc[i].id} \\t {dat.iloc[i].title}\\n\")\n",
        "    \n",
        "    acc += 1 # Incrementando"
      ],
      "outputs": [
        {
          "output_type": "stream",
          "name": "stdout",
          "text": [
            "1. id: 9789020992922 \t Atlas Ferraris : de Eerste Atlas Van Belgie Le Premier Atlas de La Belgique\n",
            "\n",
            "2. id: 9781789093247 \t Rick Baker: Metamorphosis\n",
            "\n",
            "3. id: 9781257831944 \t Mammalogy Techniques Manual 2nd Edition\n",
            "\n",
            "4. id: 9781476670775 \t Single Season Sitcoms of the 1990s : A Complete Guide\n",
            "\n",
            "5. id: 9780880975988 \t New York City 5 Borough Atlas\n",
            "\n",
            "6. id: 9780615234823 \t In Focus\n",
            "\n",
            "7. id: 9781982235116 \t The Earth Keeper's Handbook : Assuming Leadership in a New World\n",
            "\n",
            "8. id: 9781393589303 \t Collective Consciousness : How to Transcend Mass Consciousness and Become One With the Universe\n",
            "\n",
            "9. id: 9780752438016 \t Scotch on Ice : Scotland's Ice Hockey Heroes\n",
            "\n",
            "10. id: 9780813229737 \t The Business Francis Means : Understanding the Pope's Message on the Economy\n",
            "\n"
          ]
        }
      ],
      "metadata": {
        "colab": {
          "base_uri": "https://localhost:8080/"
        },
        "id": "r_D1YFRrXX9I",
        "outputId": "8eb7794c-e5a4-478f-d91c-84d00950b6cd"
      }
    },
    {
      "cell_type": "markdown",
      "source": [
        "##Quantos livros possuem `rating-avg` maior do que 3,5?\n"
      ],
      "metadata": {
        "id": "6hLM6rFX7AWt"
      }
    },
    {
      "cell_type": "code",
      "execution_count": 34,
      "source": [
        "# Filtrando \"rating-avg\" maior que 3.5 e contando\n",
        "dat[dat[\"rating-avg\"] > 3.5].id.count()"
      ],
      "outputs": [
        {
          "output_type": "execute_result",
          "data": {
            "text/plain": [
              "8182"
            ]
          },
          "metadata": {
            "tags": []
          },
          "execution_count": 34
        }
      ],
      "metadata": {
        "colab": {
          "base_uri": "https://localhost:8080/"
        },
        "id": "qGR7hQwOYQFh",
        "outputId": "6f46aeba-c4e8-4547-efe4-8bb80321670f"
      }
    },
    {
      "cell_type": "markdown",
      "source": [
        "**Answer**: There are 8,182 books with \"rating-avg\" above 3.5."
      ],
      "metadata": {
        "id": "1qbujWXjYVFJ"
      }
    },
    {
      "cell_type": "markdown",
      "source": [
        "##Quantos livros tem data de publicação (`publication-date`) maior do que `01-01-2020`?"
      ],
      "metadata": {
        "id": "ty8cM9GO7CNc"
      }
    },
    {
      "cell_type": "code",
      "execution_count": 35,
      "source": [
        "# Filtrando \"publication-date\" após \"2020-01-01\" e contando\n",
        "dat[dat[\"publication-date\"] > \"2020-01-01\"].id.count()"
      ],
      "outputs": [
        {
          "output_type": "execute_result",
          "data": {
            "text/plain": [
              "1178"
            ]
          },
          "metadata": {
            "tags": []
          },
          "execution_count": 35
        }
      ],
      "metadata": {
        "colab": {
          "base_uri": "https://localhost:8080/"
        },
        "id": "XwCWlp2FXdgB",
        "outputId": "4776130e-82cf-4d37-d88c-e0b9bb483172"
      }
    },
    {
      "cell_type": "markdown",
      "source": [
        "**Answer**: There are 1,178 books with \"publication-date\" above 2020/01/01."
      ],
      "metadata": {
        "id": "TqNLl9c7YCK7"
      }
    }
  ]
}